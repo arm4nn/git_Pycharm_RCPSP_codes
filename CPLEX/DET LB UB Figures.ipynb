{
 "cells": [
  {
   "cell_type": "code",
   "execution_count": 56,
   "metadata": {},
   "outputs": [],
   "source": [
    "import numpy as np\n",
    "import pandas as pd\n",
    "import pickle\n",
    "from gurobipy import *\n",
    "from Data import Data\n",
    "from Solver import Solver\n",
    "from InventorySimulator import InventorySimulator\n",
    "from Simulator import Simulator\n",
    "from X_finder import X_finder\n",
    "import matplotlib.pyplot as plt\n",
    "import seaborn as sns\n",
    "import timeit"
   ]
  },
  {
   "cell_type": "code",
   "execution_count": 57,
   "metadata": {},
   "outputs": [],
   "source": [
    "df = pd.read_csv('./FCT_all.csv')"
   ]
  },
  {
   "cell_type": "code",
   "execution_count": 58,
   "metadata": {},
   "outputs": [
    {
     "data": {
      "text/html": [
       "<div>\n",
       "<style scoped>\n",
       "    .dataframe tbody tr th:only-of-type {\n",
       "        vertical-align: middle;\n",
       "    }\n",
       "\n",
       "    .dataframe tbody tr th {\n",
       "        vertical-align: top;\n",
       "    }\n",
       "\n",
       "    .dataframe thead th {\n",
       "        text-align: right;\n",
       "    }\n",
       "</style>\n",
       "<table border=\"1\" class=\"dataframe\">\n",
       "  <thead>\n",
       "    <tr style=\"text-align: right;\">\n",
       "      <th></th>\n",
       "      <th>i</th>\n",
       "      <th>j</th>\n",
       "      <th>lb</th>\n",
       "      <th>ub</th>\n",
       "      <th>NC</th>\n",
       "      <th>RFr</th>\n",
       "      <th>RSr</th>\n",
       "      <th>gap</th>\n",
       "    </tr>\n",
       "  </thead>\n",
       "  <tbody>\n",
       "    <tr>\n",
       "      <td>0</td>\n",
       "      <td>1</td>\n",
       "      <td>1</td>\n",
       "      <td>43.0</td>\n",
       "      <td>46.177541</td>\n",
       "      <td>1.5</td>\n",
       "      <td>0.25</td>\n",
       "      <td>0.2</td>\n",
       "      <td>0.0739</td>\n",
       "    </tr>\n",
       "    <tr>\n",
       "      <td>1</td>\n",
       "      <td>1</td>\n",
       "      <td>2</td>\n",
       "      <td>47.0</td>\n",
       "      <td>49.279125</td>\n",
       "      <td>1.5</td>\n",
       "      <td>0.25</td>\n",
       "      <td>0.2</td>\n",
       "      <td>0.0485</td>\n",
       "    </tr>\n",
       "    <tr>\n",
       "      <td>2</td>\n",
       "      <td>1</td>\n",
       "      <td>3</td>\n",
       "      <td>47.0</td>\n",
       "      <td>48.562851</td>\n",
       "      <td>1.5</td>\n",
       "      <td>0.25</td>\n",
       "      <td>0.2</td>\n",
       "      <td>0.0333</td>\n",
       "    </tr>\n",
       "    <tr>\n",
       "      <td>3</td>\n",
       "      <td>1</td>\n",
       "      <td>4</td>\n",
       "      <td>62.0</td>\n",
       "      <td>64.316194</td>\n",
       "      <td>1.5</td>\n",
       "      <td>0.25</td>\n",
       "      <td>0.2</td>\n",
       "      <td>0.0374</td>\n",
       "    </tr>\n",
       "    <tr>\n",
       "      <td>4</td>\n",
       "      <td>1</td>\n",
       "      <td>5</td>\n",
       "      <td>39.0</td>\n",
       "      <td>41.223619</td>\n",
       "      <td>1.5</td>\n",
       "      <td>0.25</td>\n",
       "      <td>0.2</td>\n",
       "      <td>0.0570</td>\n",
       "    </tr>\n",
       "    <tr>\n",
       "      <td>...</td>\n",
       "      <td>...</td>\n",
       "      <td>...</td>\n",
       "      <td>...</td>\n",
       "      <td>...</td>\n",
       "      <td>...</td>\n",
       "      <td>...</td>\n",
       "      <td>...</td>\n",
       "      <td>...</td>\n",
       "    </tr>\n",
       "    <tr>\n",
       "      <td>475</td>\n",
       "      <td>48</td>\n",
       "      <td>6</td>\n",
       "      <td>58.0</td>\n",
       "      <td>59.420826</td>\n",
       "      <td>2.1</td>\n",
       "      <td>1.00</td>\n",
       "      <td>1.0</td>\n",
       "      <td>0.0245</td>\n",
       "    </tr>\n",
       "    <tr>\n",
       "      <td>476</td>\n",
       "      <td>48</td>\n",
       "      <td>7</td>\n",
       "      <td>55.0</td>\n",
       "      <td>56.778694</td>\n",
       "      <td>2.1</td>\n",
       "      <td>1.00</td>\n",
       "      <td>1.0</td>\n",
       "      <td>0.0323</td>\n",
       "    </tr>\n",
       "    <tr>\n",
       "      <td>477</td>\n",
       "      <td>48</td>\n",
       "      <td>8</td>\n",
       "      <td>44.0</td>\n",
       "      <td>46.309416</td>\n",
       "      <td>2.1</td>\n",
       "      <td>1.00</td>\n",
       "      <td>1.0</td>\n",
       "      <td>0.0525</td>\n",
       "    </tr>\n",
       "    <tr>\n",
       "      <td>478</td>\n",
       "      <td>48</td>\n",
       "      <td>9</td>\n",
       "      <td>59.0</td>\n",
       "      <td>62.166700</td>\n",
       "      <td>2.1</td>\n",
       "      <td>1.00</td>\n",
       "      <td>1.0</td>\n",
       "      <td>0.0537</td>\n",
       "    </tr>\n",
       "    <tr>\n",
       "      <td>479</td>\n",
       "      <td>48</td>\n",
       "      <td>10</td>\n",
       "      <td>54.0</td>\n",
       "      <td>55.897302</td>\n",
       "      <td>2.1</td>\n",
       "      <td>1.00</td>\n",
       "      <td>1.0</td>\n",
       "      <td>0.0351</td>\n",
       "    </tr>\n",
       "  </tbody>\n",
       "</table>\n",
       "<p>480 rows × 8 columns</p>\n",
       "</div>"
      ],
      "text/plain": [
       "      i   j    lb         ub   NC   RFr  RSr     gap\n",
       "0     1   1  43.0  46.177541  1.5  0.25  0.2  0.0739\n",
       "1     1   2  47.0  49.279125  1.5  0.25  0.2  0.0485\n",
       "2     1   3  47.0  48.562851  1.5  0.25  0.2  0.0333\n",
       "3     1   4  62.0  64.316194  1.5  0.25  0.2  0.0374\n",
       "4     1   5  39.0  41.223619  1.5  0.25  0.2  0.0570\n",
       "..   ..  ..   ...        ...  ...   ...  ...     ...\n",
       "475  48   6  58.0  59.420826  2.1  1.00  1.0  0.0245\n",
       "476  48   7  55.0  56.778694  2.1  1.00  1.0  0.0323\n",
       "477  48   8  44.0  46.309416  2.1  1.00  1.0  0.0525\n",
       "478  48   9  59.0  62.166700  2.1  1.00  1.0  0.0537\n",
       "479  48  10  54.0  55.897302  2.1  1.00  1.0  0.0351\n",
       "\n",
       "[480 rows x 8 columns]"
      ]
     },
     "execution_count": 58,
     "metadata": {},
     "output_type": "execute_result"
    }
   ],
   "source": [
    "df"
   ]
  },
  {
   "cell_type": "code",
   "execution_count": 59,
   "metadata": {},
   "outputs": [
    {
     "name": "stdout",
     "output_type": "stream",
     "text": [
      "gap Mean = 0.05418791666666666\n",
      "gap Median = 0.0518\n",
      "gap Min = 0.0014\n",
      "gap Max = 0.1263\n"
     ]
    }
   ],
   "source": [
    "gap = np.array(list(df['gap']))\n",
    "print('gap Mean = {}'.format(gap.mean()))\n",
    "print('gap Median = {}'.format(np.median(gap)))\n",
    "print('gap Min = {}'.format(gap.min()))\n",
    "print('gap Max = {}'.format(gap.max()))"
   ]
  },
  {
   "cell_type": "code",
   "execution_count": 60,
   "metadata": {},
   "outputs": [
    {
     "data": {
      "text/plain": [
       "NC\n",
       "1.5    0.058206\n",
       "1.8    0.054786\n",
       "2.1    0.049571\n",
       "Name: gap, dtype: float64"
      ]
     },
     "execution_count": 60,
     "metadata": {},
     "output_type": "execute_result"
    }
   ],
   "source": [
    "df.groupby(['NC'])['gap'].mean()"
   ]
  },
  {
   "cell_type": "code",
   "execution_count": 61,
   "metadata": {},
   "outputs": [
    {
     "data": {
      "text/plain": [
       "RFr\n",
       "0.25    0.037953\n",
       "0.50    0.054787\n",
       "0.75    0.060137\n",
       "1.00    0.063874\n",
       "Name: gap, dtype: float64"
      ]
     },
     "execution_count": 61,
     "metadata": {},
     "output_type": "execute_result"
    }
   ],
   "source": [
    "df.groupby(['RFr'])['gap'].mean()"
   ]
  },
  {
   "cell_type": "code",
   "execution_count": 62,
   "metadata": {},
   "outputs": [
    {
     "data": {
      "text/plain": [
       "RSr\n",
       "0.2    0.052091\n",
       "0.5    0.069987\n",
       "0.7    0.055752\n",
       "1.0    0.038922\n",
       "Name: gap, dtype: float64"
      ]
     },
     "execution_count": 62,
     "metadata": {},
     "output_type": "execute_result"
    }
   ],
   "source": [
    "df.groupby(['RSr'])['gap'].mean()"
   ]
  },
  {
   "cell_type": "code",
   "execution_count": 118,
   "metadata": {
    "scrolled": false
   },
   "outputs": [
    {
     "data": {
      "image/png": "[encoded data removed]",
      "text/plain": [
       "<Figure size 432x288 with 2 Axes>"
      ]
     },
     "metadata": {
      "needs_background": "light"
     },
     "output_type": "display_data"
    }
   ],
   "source": [
    "ddf = df[df['NC']==1.5]\n",
    "\n",
    "a = ddf.pivot_table(index='RFr', columns='RSr', values='gap', aggfunc=np.mean)\n",
    "\n",
    "ax = sns.heatmap(a, vmin=0, vmax=.1, annot=True, linewidths=2, square=True, cmap=\"coolwarm\")\n",
    "bottom, top = ax.get_ylim()\n",
    "ax.set_ylim(bottom + 0.5, top - 0.5)\n",
    "plt.title('(a) $NC = 1.5$')\n",
    "\n",
    "plt.savefig('nc15.png', dpi=300)\n",
    "plt.show()"
   ]
  },
  {
   "cell_type": "code",
   "execution_count": 119,
   "metadata": {},
   "outputs": [
    {
     "data": {
      "image/png": "[encoded data removed]",
      "text/plain": [
       "<Figure size 432x288 with 2 Axes>"
      ]
     },
     "metadata": {
      "needs_background": "light"
     },
     "output_type": "display_data"
    }
   ],
   "source": [
    "ddf = df[df['NC']==1.8]\n",
    "\n",
    "a = ddf.pivot_table(index='RFr', columns='RSr', values='gap', aggfunc=np.mean)\n",
    "\n",
    "ax = sns.heatmap(a, vmin=0, vmax=.1, annot=True, linewidths=2, square=True, cmap=\"coolwarm\")\n",
    "bottom, top = ax.get_ylim()\n",
    "ax.set_ylim(bottom + 0.5, top - 0.5)\n",
    "plt.title('(a) $NC = 1.8$')\n",
    "\n",
    "plt.savefig('nc18.png', dpi=300)\n",
    "plt.show()"
   ]
  },
  {
   "cell_type": "code",
   "execution_count": 142,
   "metadata": {},
   "outputs": [
    {
     "data": {
      "image/png": "[encoded data removed]",
      "text/plain": [
       "<Figure size 432x288 with 2 Axes>"
      ]
     },
     "metadata": {
      "needs_background": "light"
     },
     "output_type": "display_data"
    }
   ],
   "source": [
    "ddf = df[df['NC']==2.1]\n",
    "\n",
    "a = ddf.pivot_table(index='RFr', columns='RSr', values='gap', aggfunc=np.mean)\n",
    "\n",
    "ax = sns.heatmap(a, vmin=0, vmax=.1, annot=True, linewidths=2, square=True, cmap=\"coolwarm\")\n",
    "bottom, top = ax.get_ylim()\n",
    "ax.set_ylim(bottom + 0.5, top - 0.5)\n",
    "plt.title('(a) $NC = 2.1$')\n",
    "\n",
    "plt.savefig('nc21.png', dpi=300)\n",
    "plt.show()"
   ]
  },
  {
   "cell_type": "code",
   "execution_count": 115,
   "metadata": {},
   "outputs": [
    {
     "data": {
      "image/png": "[encoded data removed]",
      "text/plain": [
       "<Figure size 432x288 with 2 Axes>"
      ]
     },
     "metadata": {
      "needs_background": "light"
     },
     "output_type": "display_data"
    }
   ],
   "source": [
    "a = df.pivot_table(index='NC', columns=None, values='gap', aggfunc=np.mean)\n",
    "\n",
    "ax = sns.heatmap(a, vmin=0, vmax=.1, annot=True, linewidths=2, square=True, cmap=\"coolwarm\")\n",
    "bottom, top = ax.get_ylim()\n",
    "ax.set_ylim(bottom + 0.5, top - 0.5)\n",
    "\n",
    "plt.savefig('test.png', dpi=300)\n",
    "plt.show()"
   ]
  },
  {
   "cell_type": "code",
   "execution_count": null,
   "metadata": {},
   "outputs": [],
   "source": []
  },
  {
   "cell_type": "code",
   "execution_count": null,
   "metadata": {},
   "outputs": [],
   "source": []
  }
 ],
 "metadata": {
  "kernelspec": {
   "display_name": "Python 3",
   "language": "python",
   "name": "python3"
  },
  "language_info": {
   "codemirror_mode": {
    "name": "ipython",
    "version": 3
   },
   "file_extension": ".py",
   "mimetype": "text/x-python",
   "name": "python",
   "nbconvert_exporter": "python",
   "pygments_lexer": "ipython3",
   "version": "3.7.4"
  }
 },
 "nbformat": 4,
 "nbformat_minor": 2
}
