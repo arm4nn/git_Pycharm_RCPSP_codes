{
 "cells": [
  {
   "cell_type": "code",
   "execution_count": 1,
   "metadata": {},
   "outputs": [],
   "source": [
    "import json\n",
    "with open(\"./instance.json\") as file:\n",
    "    data = json.load(file)\n",
    "n = data[\"ntasks\"]\n",
    "m = data[\"nresources\"]\n",
    "C = data[\"capacities\"]\n",
    "D = data[\"durations\"]\n",
    "R = data[\"requirements\"]\n",
    "S = data[\"successors\"]\n",
    "N = range(n)\n",
    "M = range(m)\n",
    "\n",
    "# 2. MODELING THE PROBLEM WITH CP-OPTIMIZER\n",
    "\n",
    "from docplex.cp.model import *\n"
   ]
  },
  {
   "cell_type": "code",
   "execution_count": 2,
   "metadata": {},
   "outputs": [],
   "source": [
    "model = CpoModel()"
   ]
  },
  {
   "cell_type": "code",
   "execution_count": 3,
   "metadata": {},
   "outputs": [],
   "source": [
    "# Decision variables: tasks\n",
    "task = [interval_var(size = D[i]) for i in N]"
   ]
  },
  {
   "cell_type": "code",
   "execution_count": 4,
   "metadata": {},
   "outputs": [],
   "source": [
    "# Objective: minimize project makespan\n",
    "model.add(minimize(max(end_of(task[i]) for i in N)))"
   ]
  },
  {
   "cell_type": "code",
   "execution_count": 5,
   "metadata": {},
   "outputs": [],
   "source": [
    "# Constraints: precedence between tasks \n",
    "for [i,j] in S: model.add(end_before_start(task[i],task[j]))"
   ]
  },
  {
   "cell_type": "code",
   "execution_count": 6,
   "metadata": {},
   "outputs": [],
   "source": [
    "# Constraints: resource capacity\n",
    "for j in M: model.add(sum(pulse(task[i],q) for [i,q] in R[j]) <= C[j])"
   ]
  },
  {
   "cell_type": "code",
   "execution_count": 7,
   "metadata": {},
   "outputs": [],
   "source": [
    "from docplex.cp.config import context \n",
    "context.solver.local.execfile = \"/Applications/CPLEX_Studio_Community129/cpoptimizer/bin/x86-64_osx/cpoptimizer\""
   ]
  },
  {
   "cell_type": "code",
   "execution_count": 8,
   "metadata": {},
   "outputs": [
    {
     "name": "stdout",
     "output_type": "stream",
     "text": [
      " ! ----------------------------------------------------------------------------\n",
      " ! Minimization problem - 6 variables, 7 constraints\n",
      " ! TimeLimit            = 300\n",
      " ! LogPeriod            = 1000000\n",
      " ! Initial process time : 0.00s (0.00s extraction + 0.00s propagation)\n",
      " !  . Log search space  : 15.5 (before), 15.5 (after)\n",
      " !  . Memory usage      : 514.3 kB (before), 514.3 kB (after)\n",
      " ! Using parallel search with 12 workers.\n",
      " ! ----------------------------------------------------------------------------\n",
      " !          Best Branches  Non-fixed    W       Branch decision\n",
      "                        0          6                 -\n",
      " + New bound is 5\n",
      " *             7       13  0.00s        1      (gap is 28.57%)\n",
      "               7       14          2    1   F        -\n",
      " + New bound is 7 (gap is 0.00%)\n",
      " ! ----------------------------------------------------------------------------\n",
      " ! Search completed, 1 solution found.\n",
      " ! Best objective         : 7 (optimal - effective tol. is 0)\n",
      " ! Best bound             : 7\n",
      " ! ----------------------------------------------------------------------------\n",
      " ! Number of branches     : 135\n",
      " ! Number of fails        : 108\n",
      " ! Total memory usage     : 4.9 MB (4.9 MB CP Optimizer + 0.0 MB Concert)\n",
      " ! Time spent in solve    : 0.00s (0.00s engine + 0.00s extraction)\n",
      " ! Search speed (br. / s) : 13500.0\n",
      " ! ----------------------------------------------------------------------------\n"
     ]
    }
   ],
   "source": [
    "# 3. SOLVING THE PROBLEM\n",
    "sol = model.solve(TimeLimit=300,trace_log=True,LogPeriod=1000000)"
   ]
  },
  {
   "cell_type": "code",
   "execution_count": null,
   "metadata": {},
   "outputs": [],
   "source": []
  }
 ],
 "metadata": {
  "kernelspec": {
   "display_name": "Python 3",
   "language": "python",
   "name": "python3"
  },
  "language_info": {
   "codemirror_mode": {
    "name": "ipython",
    "version": 3
   },
   "file_extension": ".py",
   "mimetype": "text/x-python",
   "name": "python",
   "nbconvert_exporter": "python",
   "pygments_lexer": "ipython3",
   "version": "3.7.4"
  }
 },
 "nbformat": 4,
 "nbformat_minor": 2
}
