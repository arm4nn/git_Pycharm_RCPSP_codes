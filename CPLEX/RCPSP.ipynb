{
 "cells": [
  {
   "cell_type": "code",
   "execution_count": 1,
   "metadata": {},
   "outputs": [],
   "source": [
    "from docplex.cp.model import CpoModel, CpoStepFunction, INTERVAL_MIN, INTERVAL_MAX\n",
    "import docplex.cp.utils_visu as visu\n",
    "import os\n",
    "import numpy as np\n",
    "import pickle"
   ]
  },
  {
   "cell_type": "code",
   "execution_count": 2,
   "metadata": {},
   "outputs": [],
   "source": [
    "from docplex.cp.config import context \n",
    "context.solver.local.execfile = \"/Applications/CPLEX_Studio_Community129/cpoptimizer/bin/x86-64_osx/cpoptimizer\""
   ]
  },
  {
   "cell_type": "code",
   "execution_count": 4,
   "metadata": {
    "scrolled": true
   },
   "outputs": [
    {
     "name": "stdout",
     "output_type": "stream",
     "text": [
      "45\t6\t129\t103.5909 sec\n"
     ]
    }
   ],
   "source": [
    "dic = {}\n",
    "\n",
    "i_list = np.arange(45,46)\n",
    "j_list = np.arange(6,7)\n",
    "\n",
    "\n",
    "for ii in i_list:\n",
    "    for jj in j_list:\n",
    "        \n",
    "        filename = \"./data/A30/j30rcp/J30\" + str(ii) + '_' + str(jj) + \".RCP\"\n",
    "        with open(filename, \"r\") as file:\n",
    "            NB_TASKS, NB_RESOURCES = [int(v) for v in file.readline().split()]\n",
    "            CAPACITIES = [int(v) for v in file.readline().split()]\n",
    "            TASKS = [[int(v) for v in file.readline().split()] for i in range(NB_TASKS)]\n",
    "\n",
    "        # Extract duration of each task\n",
    "        DURATIONS = [TASKS[t][0] for t in range(NB_TASKS)]\n",
    "\n",
    "        # Extract demand of each task\n",
    "        DEMANDS = [TASKS[t][1:NB_RESOURCES + 1] for t in range(NB_TASKS)]\n",
    "\n",
    "        # Extract successors of each task\n",
    "        SUCCESSORS = [TASKS[t][NB_RESOURCES + 2:] for t in range(NB_TASKS)]\n",
    "\n",
    "        # Create model\n",
    "        mdl = CpoModel()\n",
    "\n",
    "        # Create task interval variables\n",
    "        tasks = [mdl.interval_var(name=\"T{}\".format(i + 1), size=DURATIONS[i]) for i in range(NB_TASKS)]\n",
    "\n",
    "        # Add precedence constraints\n",
    "        for t in range(NB_TASKS):\n",
    "            for s in SUCCESSORS[t]:\n",
    "                mdl.add(mdl.end_before_start(tasks[t], tasks[s - 1]))\n",
    "\n",
    "        # Constrain capacity of resources\n",
    "        for r in range(NB_RESOURCES):\n",
    "            resources = [mdl.pulse(tasks[t], DEMANDS[t][r]) for t in range(NB_TASKS) if DEMANDS[t][r] > 0]\n",
    "            mdl.add(mdl.sum(resources) <= CAPACITIES[r])\n",
    "\n",
    "        # Minimize end of all tasks\n",
    "        mdl.add(mdl.minimize(mdl.max([mdl.end_of(t) for t in tasks])))\n",
    "\n",
    "        # Solve model\n",
    "        msol = mdl.solve(TimeLimit=300)\n",
    "        \n",
    "        if msol.get_solve_status() == 'Optimal':\n",
    "            print('{}\\t{}\\t{}\\t{} sec'.format(ii, jj, msol.get_objective_values()[0], round(msol.get_solve_time(),4)))\n",
    "            dic[ii,jj] = {}\n",
    "            for k in range(1,33):\n",
    "                dic[ii,jj][k] = msol.get_value('T' + str(k))\n",
    "        \n",
    "        else:\n",
    "            print('{}\\t{}\\t****\\t{} sec'.format(ii, jj, round(msol.get_solve_time(),4)))\n"
   ]
  },
  {
   "cell_type": "code",
   "execution_count": null,
   "metadata": {},
   "outputs": [],
   "source": [
    "# with open('dic_fct.pickle', 'wb') as handle:\n",
    "#     pickle.dump(dic, handle, protocol=pickle.HIGHEST_PROTOCOL)"
   ]
  },
  {
   "cell_type": "code",
   "execution_count": 6,
   "metadata": {},
   "outputs": [],
   "source": [
    "with open('dic_fct.pickle', 'rb') as handle:\n",
    "    dic = pickle.load(handle)"
   ]
  },
  {
   "cell_type": "code",
   "execution_count": 9,
   "metadata": {},
   "outputs": [
    {
     "name": "stdout",
     "output_type": "stream",
     "text": [
      "-------------------------------------------------------------------------------\n",
      "Model constraints: 72, variables: integer: 0, interval: 32, sequence: 0\n",
      "Solve status: Optimal, Fail status: SearchHasFailedNormally\n",
      "Search status: SearchCompleted, stop cause: SearchHasNotBeenStopped\n",
      "Solve time: 103.59 sec\n",
      "-------------------------------------------------------------------------------\n",
      "Objective values: (129,), bounds: (129,), gaps: (0,)\n",
      "T1: (start=0, end=0, size=0, length=0)\n",
      "T2: (start=0, end=7, size=7, length=7)\n",
      "T3: (start=18, end=27, size=9, length=9)\n",
      "T4: (start=33, end=38, size=5, length=5)\n",
      "T5: (start=7, end=12, size=5, length=5)\n",
      "T6: (start=12, end=22, size=10, length=10)\n",
      "T7: (start=44, end=51, size=7, length=7)\n",
      "T8: (start=22, end=26, size=4, length=4)\n",
      "T9: (start=28, end=33, size=5, length=5)\n",
      "T10: (start=38, end=39, size=1, length=1)\n",
      "T11: (start=12, end=18, size=6, length=6)\n",
      "T12: (start=51, end=60, size=9, length=9)\n",
      "T13: (start=27, end=37, size=10, length=10)\n",
      "T14: (start=68, end=75, size=7, length=7)\n",
      "T15: (start=39, end=44, size=5, length=5)\n",
      "T16: (start=75, end=84, size=9, length=9)\n",
      "T17: (start=26, end=28, size=2, length=2)\n",
      "T18: (start=44, end=53, size=9, length=9)\n",
      "T19: (start=101, end=104, size=3, length=3)\n",
      "T20: (start=61, end=68, size=7, length=7)\n",
      "T21: (start=84, end=88, size=4, length=4)\n",
      "T22: (start=53, end=61, size=8, length=8)\n",
      "T23: (start=62, end=71, size=9, length=9)\n",
      "T24: (start=61, end=62, size=1, length=1)\n",
      "T25: (start=75, end=83, size=8, length=8)\n",
      "T26: (start=84, end=88, size=4, length=4)\n",
      "T27: (start=88, end=98, size=10, length=10)\n",
      "T28: (start=98, end=101, size=3, length=3)\n",
      "T29: (start=101, end=111, size=10, length=10)\n",
      "T30: (start=111, end=120, size=9, length=9)\n",
      "T31: (start=120, end=129, size=9, length=9)\n",
      "T32: (start=129, end=129, size=0, length=0)\n"
     ]
    }
   ],
   "source": [
    "msol.print_solution()"
   ]
  },
  {
   "cell_type": "code",
   "execution_count": 7,
   "metadata": {},
   "outputs": [
    {
     "data": {
      "text/plain": [
       "{1: (0, 0, 0),\n",
       " 2: (0, 7, 7),\n",
       " 3: (18, 27, 9),\n",
       " 4: (33, 38, 5),\n",
       " 5: (7, 12, 5),\n",
       " 6: (12, 22, 10),\n",
       " 7: (44, 51, 7),\n",
       " 8: (22, 26, 4),\n",
       " 9: (28, 33, 5),\n",
       " 10: (38, 39, 1),\n",
       " 11: (12, 18, 6),\n",
       " 12: (51, 60, 9),\n",
       " 13: (27, 37, 10),\n",
       " 14: (68, 75, 7),\n",
       " 15: (39, 44, 5),\n",
       " 16: (75, 84, 9),\n",
       " 17: (26, 28, 2),\n",
       " 18: (44, 53, 9),\n",
       " 19: (101, 104, 3),\n",
       " 20: (61, 68, 7),\n",
       " 21: (84, 88, 4),\n",
       " 22: (53, 61, 8),\n",
       " 23: (62, 71, 9),\n",
       " 24: (61, 62, 1),\n",
       " 25: (75, 83, 8),\n",
       " 26: (84, 88, 4),\n",
       " 27: (88, 98, 10),\n",
       " 28: (98, 101, 3),\n",
       " 29: (101, 111, 10),\n",
       " 30: (111, 120, 9),\n",
       " 31: (120, 129, 9),\n",
       " 32: (129, 129, 0)}"
      ]
     },
     "execution_count": 7,
     "metadata": {},
     "output_type": "execute_result"
    }
   ],
   "source": [
    "dic[45,6]"
   ]
  },
  {
   "cell_type": "code",
   "execution_count": 5,
   "metadata": {},
   "outputs": [
    {
     "data": {
      "text/plain": [
       "{(45, 6): {1: (0, 0, 0),\n",
       "  2: (0, 7, 7),\n",
       "  3: (18, 27, 9),\n",
       "  4: (33, 38, 5),\n",
       "  5: (7, 12, 5),\n",
       "  6: (12, 22, 10),\n",
       "  7: (44, 51, 7),\n",
       "  8: (22, 26, 4),\n",
       "  9: (28, 33, 5),\n",
       "  10: (38, 39, 1),\n",
       "  11: (12, 18, 6),\n",
       "  12: (51, 60, 9),\n",
       "  13: (27, 37, 10),\n",
       "  14: (68, 75, 7),\n",
       "  15: (39, 44, 5),\n",
       "  16: (75, 84, 9),\n",
       "  17: (26, 28, 2),\n",
       "  18: (44, 53, 9),\n",
       "  19: (101, 104, 3),\n",
       "  20: (61, 68, 7),\n",
       "  21: (84, 88, 4),\n",
       "  22: (53, 61, 8),\n",
       "  23: (62, 71, 9),\n",
       "  24: (61, 62, 1),\n",
       "  25: (75, 83, 8),\n",
       "  26: (84, 88, 4),\n",
       "  27: (88, 98, 10),\n",
       "  28: (98, 101, 3),\n",
       "  29: (101, 111, 10),\n",
       "  30: (111, 120, 9),\n",
       "  31: (120, 129, 9),\n",
       "  32: (129, 129, 0)}}"
      ]
     },
     "execution_count": 5,
     "metadata": {},
     "output_type": "execute_result"
    }
   ],
   "source": [
    "dic"
   ]
  },
  {
   "cell_type": "code",
   "execution_count": null,
   "metadata": {},
   "outputs": [],
   "source": []
  },
  {
   "cell_type": "code",
   "execution_count": null,
   "metadata": {},
   "outputs": [],
   "source": []
  },
  {
   "cell_type": "code",
   "execution_count": null,
   "metadata": {},
   "outputs": [],
   "source": []
  },
  {
   "cell_type": "code",
   "execution_count": null,
   "metadata": {},
   "outputs": [],
   "source": []
  }
 ],
 "metadata": {
  "kernelspec": {
   "display_name": "Python 3",
   "language": "python",
   "name": "python3"
  },
  "language_info": {
   "codemirror_mode": {
    "name": "ipython",
    "version": 3
   },
   "file_extension": ".py",
   "mimetype": "text/x-python",
   "name": "python",
   "nbconvert_exporter": "python",
   "pygments_lexer": "ipython3",
   "version": "3.7.4"
  }
 },
 "nbformat": 4,
 "nbformat_minor": 2
}
