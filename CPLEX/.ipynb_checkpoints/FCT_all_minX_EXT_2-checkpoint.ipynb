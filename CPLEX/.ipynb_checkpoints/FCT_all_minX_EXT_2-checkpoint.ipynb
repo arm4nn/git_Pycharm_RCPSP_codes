{
 "cells": [
  {
   "cell_type": "code",
   "execution_count": null,
   "metadata": {},
   "outputs": [],
   "source": [
    "import numpy as np\n",
    "import pandas as pd\n",
    "import pickle\n",
    "from gurobipy import *\n",
    "from Data import Data\n",
    "from Solver import Solver\n",
    "from InventorySimulator import InventorySimulator\n",
    "from Simulator import Simulator\n",
    "from X_finder_EXT_2 import X_finder_EXT_2"
   ]
  },
  {
   "cell_type": "code",
   "execution_count": null,
   "metadata": {},
   "outputs": [],
   "source": [
    "# find X for FCT | Objective = min sum(X) EXT_2\n",
    "\n",
    "with open('dic_fct.pickle', 'rb') as handle:\n",
    "    dic = pickle.load(handle)\n",
    "    \n",
    "for ii in range(45,46):\n",
    "    for jj in range(6,7):\n",
    "        print(ii , jj)\n",
    "        X = X_finder_EXT_2(test_num=(ii,jj), dic=dic)\n",
    "        file = './fct_all_EXT_2/' + str(ii) + '_' + str(jj) + '.x'\n",
    "        np.savetxt(file, X.det_x, fmt='%d')"
   ]
  },
  {
   "cell_type": "code",
   "execution_count": null,
   "metadata": {},
   "outputs": [],
   "source": [
    "df = pd.read_csv('./FCT_all.csv')\n",
    "opt = {}\n",
    "for r in range(len(df)):\n",
    "    opt[(df.iloc[r]['i'], df.iloc[r]['j'])] = df.iloc[r]['lb']"
   ]
  },
  {
   "cell_type": "code",
   "execution_count": null,
   "metadata": {},
   "outputs": [],
   "source": [
    "# simulate FCT\n",
    "dic = {}\n",
    "for ii in range(45,46):\n",
    "    for jj in range(6,7):\n",
    "        data = Data((ii,jj))\n",
    "        data.gen_scn(20, 2000)\n",
    "        file = './fct_all_EXT_2/' + str(ii) + '_' + str(jj) + '.x'\n",
    "        X = Simulator(model_type='sfct', file=file, data=data)\n",
    "        if X.status:\n",
    "            dic[(ii,jj)] = [X.obj]\n",
    "            print('{}\\t{}\\t{}\\t{}\\t{}'.format(ii, jj, opt[ii,jj], X.obj, round(X.time, 4)))\n",
    "        else:\n",
    "            dic[(ii,jj)] = ['{}\\t{}\\t{}\\t*************'.format(ii, jj, opt[ii,jj])]"
   ]
  },
  {
   "cell_type": "code",
   "execution_count": null,
   "metadata": {},
   "outputs": [],
   "source": [
    "pd.DataFrame(dic).T.to_csv('./FCT_all_EXT_2.csv')"
   ]
  },
  {
   "cell_type": "code",
   "execution_count": null,
   "metadata": {},
   "outputs": [],
   "source": []
  },
  {
   "cell_type": "code",
   "execution_count": null,
   "metadata": {},
   "outputs": [],
   "source": []
  },
  {
   "cell_type": "code",
   "execution_count": null,
   "metadata": {},
   "outputs": [],
   "source": []
  },
  {
   "cell_type": "code",
   "execution_count": null,
   "metadata": {},
   "outputs": [],
   "source": [
    "grb = Model('FCT')\n",
    "\n",
    "x = grb.addVars(data.activities, data.activities, lb=0.0, ub=1.0, vtype='B', name=\"X\")\n",
    "f = grb.addVars(data.activities, data.activities, data.resources, lb=0.0, vtype='C', name=\"F\")\n",
    "z = [dic[ii,jj][k][0] for k in dic[ii,jj]]\n",
    "\n",
    "grb.addConstrs(\n",
    "            (x[i, j] == 1\n",
    "             for i in data.activities[:-1]\n",
    "             for j in data.activities[data.successors[i][data.successors[i] > 0].astype(np.int) - 1]),\n",
    "            name=\"Network Relations\")\n",
    "grb.addConstrs(\n",
    "                (z[j] - z[i] >= data.duration[i] - data.big_t * (1 - x[i, j])\n",
    "                 for i in data.activities[:-1]\n",
    "                 for j in data.activities[1:]),\n",
    "                name=\"NetworkStartTimeRelations\")\n",
    "grb.addConstrs(\n",
    "            (f[i, j, r] - data.big_r * x[i, j] <= 0\n",
    "             for i in data.activities[:-1]\n",
    "             for j in data.activities[1:]\n",
    "             for r in data.resources),\n",
    "            name=\"NetworkFlowRelations\")\n",
    "grb.addConstrs(\n",
    "            (quicksum(f[i, j, r] for j in data.activities[1:]) == data.res_use[i][r]\n",
    "             for i in data.activities[1:]\n",
    "             for r in data.resources),\n",
    "            name=\"OutgoingFlows\")\n",
    "grb.addConstrs(\n",
    "            (quicksum(f[i, j, r] for i in data.activities[:-1]) == data.res_use[j][r]\n",
    "             for j in data.activities[:-1]\n",
    "             for r in data.resources),\n",
    "            name=\"IngoingFlows\")\n",
    "grb.addConstrs(\n",
    "            (quicksum(f[data.activities[0], j, r] for j in data.activities[1:]) ==\n",
    "             data.available_resources[r]\n",
    "             for r in data.resources),\n",
    "            name=\"FirstFlow\")\n",
    "grb.addConstrs(\n",
    "            (quicksum(f[i, data.activities[-1], r] for i in data.activities[:-1]) ==\n",
    "             data.available_resources[r]\n",
    "             for r in data.resources),\n",
    "            name=\"LastFlow\")\n",
    "\n",
    "obj = (quicksum(x[i,j] for i in data.activities for j in data.activities))\n",
    "grb.setObjective(obj, GRB.MINIMIZE)\n",
    "\n",
    "grb.setParam('TimeLimit', 600)\n",
    "grb.setParam('OutputFlag', 1)\n",
    "grb.setParam('MIPGap', 0.000001)\n",
    "grb.update()\n",
    "grb.optimize()"
   ]
  }
 ],
 "metadata": {
  "kernelspec": {
   "display_name": "Python 3",
   "language": "python",
   "name": "python3"
  },
  "language_info": {
   "codemirror_mode": {
    "name": "ipython",
    "version": 3
   },
   "file_extension": ".py",
   "mimetype": "text/x-python",
   "name": "python",
   "nbconvert_exporter": "python",
   "pygments_lexer": "ipython3",
   "version": "3.7.4"
  }
 },
 "nbformat": 4,
 "nbformat_minor": 2
}
