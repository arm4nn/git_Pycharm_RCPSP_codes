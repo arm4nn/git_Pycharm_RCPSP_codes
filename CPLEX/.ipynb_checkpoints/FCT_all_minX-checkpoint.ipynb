{
 "cells": [
  {
   "cell_type": "code",
   "execution_count": null,
   "metadata": {},
   "outputs": [],
   "source": [
    "import numpy as np\n",
    "import pandas as pd\n",
    "import pickle\n",
    "from gurobipy import *\n",
    "from Data import Data\n",
    "from Solver import Solver\n",
    "from InventorySimulator import InventorySimulator\n",
    "from Simulator import Simulator\n",
    "from X_finder import X_finder"
   ]
  },
  {
   "cell_type": "code",
   "execution_count": null,
   "metadata": {},
   "outputs": [],
   "source": [
    "# find X for FCT | Objective = min sum(X) EXT_1\n",
    "\n",
    "with open('dic_fct.pickle', 'rb') as handle:\n",
    "    dic = pickle.load(handle)\n",
    "    \n",
    "for ii in range(45,46):\n",
    "    for jj in range(6,7):\n",
    "        print(ii , jj)\n",
    "        X = X_finder(test_num=(ii,jj), dic=dic)\n",
    "        file = './fct_all/' + str(ii) + '_' + str(jj) + '.x'\n",
    "        np.savetxt(file, X.det_x, fmt='%d')"
   ]
  },
  {
   "cell_type": "code",
   "execution_count": null,
   "metadata": {},
   "outputs": [],
   "source": [
    "df = pd.read_csv('./FCT_all.csv')\n",
    "opt = {}\n",
    "for r in range(len(df)):\n",
    "    opt[(df.iloc[r]['i'], df.iloc[r]['j'])] = df.iloc[r]['lb']"
   ]
  },
  {
   "cell_type": "code",
   "execution_count": null,
   "metadata": {},
   "outputs": [],
   "source": [
    "# simulate FCT\n",
    "dic = {}\n",
    "for ii in range(45,46):\n",
    "    for jj in range(6,7):\n",
    "        data = Data((ii,jj))\n",
    "        data.gen_scn(20, 2000)\n",
    "        file = './fct_all/' + str(ii) + '_' + str(jj) + '.x'\n",
    "        X = Simulator(model_type='sfct', file=file, data=data)\n",
    "        if X.status:\n",
    "            dic[(ii,jj)] = [X.obj]\n",
    "            print('{}\\t{}\\t{}\\t{}\\t{}'.format(ii, jj, opt[ii,jj], X.obj, round(X.time, 4)))\n",
    "        else:\n",
    "            dic[(ii,jj)] = ['{}\\t{}\\t{}\\t*************'.format(ii, jj, opt[ii,jj])]"
   ]
  },
  {
   "cell_type": "code",
   "execution_count": null,
   "metadata": {},
   "outputs": [],
   "source": [
    "pd.DataFrame(dic).T.to_csv('./FCT_all.csv')"
   ]
  },
  {
   "cell_type": "code",
   "execution_count": null,
   "metadata": {},
   "outputs": [],
   "source": []
  },
  {
   "cell_type": "code",
   "execution_count": null,
   "metadata": {},
   "outputs": [],
   "source": []
  }
 ],
 "metadata": {
  "kernelspec": {
   "display_name": "Python 3",
   "language": "python",
   "name": "python3"
  },
  "language_info": {
   "codemirror_mode": {
    "name": "ipython",
    "version": 3
   },
   "file_extension": ".py",
   "mimetype": "text/x-python",
   "name": "python",
   "nbconvert_exporter": "python",
   "pygments_lexer": "ipython3",
   "version": "3.7.4"
  }
 },
 "nbformat": 4,
 "nbformat_minor": 2
}
