{
 "cells": [
  {
   "cell_type": "code",
   "execution_count": 1,
   "metadata": {},
   "outputs": [],
   "source": [
    "from docplex.cp.model import CpoModel, CpoStepFunction, INTERVAL_MIN, INTERVAL_MAX\n",
    "import docplex.cp.utils_visu as visu\n",
    "import os\n",
    "import numpy as np"
   ]
  },
  {
   "cell_type": "code",
   "execution_count": 2,
   "metadata": {},
   "outputs": [],
   "source": [
    "from docplex.cp.config import context \n",
    "context.solver.local.execfile = \"/Applications/CPLEX_Studio_Community129/cpoptimizer/bin/x86-64_osx/cpoptimizer\""
   ]
  },
  {
   "cell_type": "code",
   "execution_count": 3,
   "metadata": {},
   "outputs": [],
   "source": [
    "#-----------------------------------------------------------------------------\n",
    "# Initialize the problem data\n",
    "#-----------------------------------------------------------------------------\n",
    "\n",
    "# Read the input data file.\n",
    "# Available files are rcpsp_default, and different rcpsp_XXXXXX.\n",
    "# First line contains the number of tasks, and the number of resources.\n",
    "# Second line contains the capacities of the resources.\n",
    "# The rest of the file consists of one line per task, organized as follows:\n",
    "# - duration of the task\n",
    "# - the demand on each resource (one integer per resource)\n",
    "# - the number of successors followed by the list of successor numbers\n",
    "\n",
    "filename = \"./data/J3029_2.RCP\"\n",
    "with open(filename, \"r\") as file:\n",
    "    NB_TASKS, NB_RESOURCES = [int(v) for v in file.readline().split()]\n",
    "    CAPACITIES = [int(v) for v in file.readline().split()]\n",
    "    TASKS = [[int(v) for v in file.readline().split()] for i in range(NB_TASKS)]"
   ]
  },
  {
   "cell_type": "code",
   "execution_count": 4,
   "metadata": {},
   "outputs": [],
   "source": [
    "#-----------------------------------------------------------------------------\n",
    "# Prepare the data for modeling\n",
    "#-----------------------------------------------------------------------------\n",
    "\n",
    "# Extract duration of each task\n",
    "DURATIONS = [TASKS[t][0] for t in range(NB_TASKS)]\n",
    "\n",
    "# Extract demand of each task\n",
    "DEMANDS = [TASKS[t][1:NB_RESOURCES + 1] for t in range(NB_TASKS)]\n",
    "\n",
    "# Extract successors of each task\n",
    "SUCCESSORS = [TASKS[t][NB_RESOURCES + 2:] for t in range(NB_TASKS)]\n"
   ]
  },
  {
   "cell_type": "code",
   "execution_count": 5,
   "metadata": {},
   "outputs": [],
   "source": [
    "#-----------------------------------------------------------------------------\n",
    "# Build the model\n",
    "#-----------------------------------------------------------------------------\n",
    "\n",
    "# Create model\n",
    "mdl = CpoModel()\n",
    "\n",
    "# Create task interval variables\n",
    "tasks = [mdl.interval_var(name=\"T{}\".format(i + 1), size=DURATIONS[i]) for i in range(NB_TASKS)]\n",
    "\n",
    "# Add precedence constraints\n",
    "for t in range(NB_TASKS):\n",
    "    for s in SUCCESSORS[t]:\n",
    "        mdl.add(mdl.end_before_start(tasks[t], tasks[s - 1]))\n",
    "\n",
    "# Constrain capacity of resources\n",
    "for r in range(NB_RESOURCES):\n",
    "    resources = [mdl.pulse(tasks[t], DEMANDS[t][r]) for t in range(NB_TASKS) if DEMANDS[t][r] > 0]\n",
    "    mdl.add(mdl.sum(resources) <= CAPACITIES[r])\n",
    "\n",
    "# Minimize end of all tasks\n",
    "mdl.add(mdl.minimize(mdl.max([mdl.end_of(t) for t in tasks])))"
   ]
  },
  {
   "cell_type": "code",
   "execution_count": 7,
   "metadata": {},
   "outputs": [
    {
     "name": "stdout",
     "output_type": "stream",
     "text": [
      "Solving model....\n",
      "Solution: \n",
      "-------------------------------------------------------------------------------\n",
      "Model constraints: 62, variables: integer: 0, interval: 32, sequence: 0\n",
      "Solve status: Optimal, Fail status: SearchHasFailedNormally\n",
      "Search status: SearchCompleted, stop cause: SearchHasNotBeenStopped\n",
      "Solve time: 4.99 sec\n",
      "-------------------------------------------------------------------------------\n",
      "Objective values: (90,), bounds: (90,), gaps: (0,)\n",
      "T1: (start=0, end=0, size=0, length=0)\n",
      "T2: (start=0, end=6, size=6, length=6)\n",
      "T3: (start=25, end=32, size=7, length=7)\n",
      "T4: (start=0, end=6, size=6, length=6)\n",
      "T5: (start=6, end=10, size=4, length=4)\n",
      "T6: (start=10, end=17, size=7, length=7)\n",
      "T7: (start=10, end=16, size=6, length=6)\n",
      "T8: (start=34, end=41, size=7, length=7)\n",
      "T9: (start=17, end=25, size=8, length=8)\n",
      "T10: (start=16, end=23, size=7, length=7)\n",
      "T11: (start=51, end=60, size=9, length=9)\n",
      "T12: (start=32, end=37, size=5, length=5)\n",
      "T13: (start=25, end=34, size=9, length=9)\n",
      "T14: (start=44, end=51, size=7, length=7)\n",
      "T15: (start=60, end=61, size=1, length=1)\n",
      "T16: (start=23, end=33, size=10, length=10)\n",
      "T17: (start=33, end=35, size=2, length=2)\n",
      "T18: (start=17, end=23, size=6, length=6)\n",
      "T19: (start=40, end=50, size=10, length=10)\n",
      "T20: (start=61, end=71, size=10, length=10)\n",
      "T21: (start=37, end=40, size=3, length=3)\n",
      "T22: (start=70, end=75, size=5, length=5)\n",
      "T23: (start=75, end=76, size=1, length=1)\n",
      "T24: (start=58, end=61, size=3, length=3)\n",
      "T25: (start=61, end=70, size=9, length=9)\n",
      "T26: (start=35, end=37, size=2, length=2)\n",
      "T27: (start=50, end=58, size=8, length=8)\n",
      "T28: (start=79, end=85, size=6, length=6)\n",
      "T29: (start=41, end=44, size=3, length=3)\n",
      "T30: (start=85, end=90, size=5, length=5)\n",
      "T31: (start=71, end=79, size=8, length=8)\n",
      "T32: (start=90, end=90, size=0, length=0)\n"
     ]
    },
    {
     "data": {
      "image/png": "[encoded data removed]",
      "text/plain": [
       "<Figure size 432x288 with 5 Axes>"
      ]
     },
     "metadata": {
      "needs_background": "light"
     },
     "output_type": "display_data"
    }
   ],
   "source": [
    "#-----------------------------------------------------------------------------\n",
    "# Solve the model and display the result\n",
    "#-----------------------------------------------------------------------------\n",
    "\n",
    "# Solve model\n",
    "print(\"Solving model....\")\n",
    "msol = mdl.solve(TimeLimit=10)\n",
    "print(\"Solution: \")\n",
    "msol.print_solution()\n",
    "\n",
    "if msol and visu.is_visu_enabled():\n",
    "    load = [CpoStepFunction() for j in range(NB_RESOURCES)]\n",
    "    for i in range(NB_TASKS):\n",
    "        itv = msol.get_var_solution(tasks[i])\n",
    "        for j in range(NB_RESOURCES):\n",
    "            if 0 < DEMANDS[i][j]:\n",
    "                load[j].add_value(itv.get_start(), itv.get_end(), DEMANDS[i][j])\n",
    "\n",
    "    visu.timeline(\"Solution for RCPSP \" + filename)\n",
    "    visu.panel(\"Tasks\")\n",
    "    for i in range(NB_TASKS):\n",
    "        visu.interval(msol.get_var_solution(tasks[i]), i, tasks[i].get_name())\n",
    "    for j in range(NB_RESOURCES):\n",
    "        visu.panel(\"R \" + str(j + 1))\n",
    "        visu.function(segments=[(INTERVAL_MIN, INTERVAL_MAX, CAPACITIES[j])], style='area', color='lightgrey')\n",
    "        visu.function(segments=load[j], style='area', color=j)\n",
    "    visu.show()"
   ]
  },
  {
   "cell_type": "code",
   "execution_count": 167,
   "metadata": {},
   "outputs": [
    {
     "data": {
      "text/plain": [
       "'Optimal'"
      ]
     },
     "execution_count": 167,
     "metadata": {},
     "output_type": "execute_result"
    }
   ],
   "source": [
    "m.get_solve_status()"
   ]
  },
  {
   "cell_type": "code",
   "execution_count": 143,
   "metadata": {},
   "outputs": [
    {
     "data": {
      "text/plain": [
       "(90,)"
      ]
     },
     "execution_count": 143,
     "metadata": {},
     "output_type": "execute_result"
    }
   ],
   "source": [
    "m.get_objective_values()"
   ]
  },
  {
   "cell_type": "code",
   "execution_count": 170,
   "metadata": {},
   "outputs": [
    {
     "data": {
      "text/plain": [
       "(90, 90, 0)"
      ]
     },
     "execution_count": 170,
     "metadata": {},
     "output_type": "execute_result"
    }
   ],
   "source": [
    "m.get_value('T32')"
   ]
  },
  {
   "cell_type": "code",
   "execution_count": null,
   "metadata": {},
   "outputs": [],
   "source": [
    "dic = {}\n",
    "\n",
    "i_list = np.arange(1,49)\n",
    "\n",
    "\n",
    "\n",
    "filename = \"./data/J3029_2.RCP\"\n",
    "with open(filename, \"r\") as file:\n",
    "    NB_TASKS, NB_RESOURCES = [int(v) for v in file.readline().split()]\n",
    "    CAPACITIES = [int(v) for v in file.readline().split()]\n",
    "    TASKS = [[int(v) for v in file.readline().split()] for i in range(NB_TASKS)]\n",
    "\n",
    "# Extract duration of each task\n",
    "DURATIONS = [TASKS[t][0] for t in range(NB_TASKS)]\n",
    "\n",
    "# Extract demand of each task\n",
    "DEMANDS = [TASKS[t][1:NB_RESOURCES + 1] for t in range(NB_TASKS)]\n",
    "\n",
    "# Extract successors of each task\n",
    "SUCCESSORS = [TASKS[t][NB_RESOURCES + 2:] for t in range(NB_TASKS)]\n",
    "\n",
    "# Create model\n",
    "mdl = CpoModel()\n",
    "\n",
    "# Create task interval variables\n",
    "tasks = [mdl.interval_var(name=\"T{}\".format(i + 1), size=DURATIONS[i]) for i in range(NB_TASKS)]\n",
    "\n",
    "# Add precedence constraints\n",
    "for t in range(NB_TASKS):\n",
    "    for s in SUCCESSORS[t]:\n",
    "        mdl.add(mdl.end_before_start(tasks[t], tasks[s - 1]))\n",
    "\n",
    "# Constrain capacity of resources\n",
    "for r in range(NB_RESOURCES):\n",
    "    resources = [mdl.pulse(tasks[t], DEMANDS[t][r]) for t in range(NB_TASKS) if DEMANDS[t][r] > 0]\n",
    "    mdl.add(mdl.sum(resources) <= CAPACITIES[r])\n",
    "\n",
    "# Minimize end of all tasks\n",
    "mdl.add(mdl.minimize(mdl.max([mdl.end_of(t) for t in tasks])))\n",
    "\n",
    "# Solve model\n",
    "print(\"Solving model....\")\n",
    "msol = mdl.solve(TimeLimit=10)"
   ]
  }
 ],
 "metadata": {
  "kernelspec": {
   "display_name": "Python 3",
   "language": "python",
   "name": "python3"
  },
  "language_info": {
   "codemirror_mode": {
    "name": "ipython",
    "version": 3
   },
   "file_extension": ".py",
   "mimetype": "text/x-python",
   "name": "python",
   "nbconvert_exporter": "python",
   "pygments_lexer": "ipython3",
   "version": "3.7.4"
  }
 },
 "nbformat": 4,
 "nbformat_minor": 2
}
